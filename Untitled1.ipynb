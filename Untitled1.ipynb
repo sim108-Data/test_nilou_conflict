{
 "cells": [
  {
   "cell_type": "code",
   "execution_count": 2,
   "id": "51635b44-42cd-47b0-a1d5-1562542a1dfb",
   "metadata": {},
   "outputs": [],
   "source": [
    "A=1"
   ]
  },
  {
   "cell_type": "code",
   "execution_count": 3,
   "id": "6d2ace6e-0098-438e-831d-47682023d458",
   "metadata": {},
   "outputs": [],
   "source": [
    "A=1"
   ]
  },
  {
   "cell_type": "code",
   "execution_count": 4,
   "id": "6f353035-5d9a-47fb-937f-c946962e09bd",
   "metadata": {},
   "outputs": [],
   "source": [
    "A=1"
   ]
  },
  {
   "cell_type": "code",
   "execution_count": 5,
   "id": "09dc0095-3ceb-4c7d-b77d-ebed4931fc6a",
   "metadata": {},
   "outputs": [],
   "source": [
    "A=1"
   ]
  },
  {
   "cell_type": "code",
   "execution_count": 6,
   "id": "3d6265b4-870d-447d-961c-35dfe9a63b7f",
   "metadata": {},
   "outputs": [],
   "source": [
    "A=1"
   ]
  },
  {
   "cell_type": "code",
   "execution_count": 7,
   "id": "eb8ac9bc-3949-4476-8c49-903888f5d10e",
   "metadata": {},
   "outputs": [],
   "source": [
    "A=1"
   ]
  },
  {
   "cell_type": "code",
   "execution_count": 8,
   "id": "82a591be-8c4c-4c31-8fe8-52b670db805c",
   "metadata": {},
   "outputs": [],
   "source": [
    "A=1"
   ]
  },
  {
   "cell_type": "code",
   "execution_count": 9,
   "id": "e2cd6628-cce0-46f9-8128-037cd3cf3a8b",
   "metadata": {},
   "outputs": [],
   "source": [
    "A=1"
   ]
  },
  {
   "cell_type": "code",
   "execution_count": 10,
   "id": "ef72879a-edf2-4f6a-b998-61ad460a2043",
   "metadata": {},
   "outputs": [],
   "source": [
    "A=1\n",
    "A=1"
   ]
  },
  {
   "cell_type": "code",
   "execution_count": 11,
   "id": "a42359d5-3b47-49b2-891d-d072fe8f33a8",
   "metadata": {},
   "outputs": [],
   "source": [
    "A=1"
   ]
  },
  {
   "cell_type": "code",
   "execution_count": 12,
   "id": "0f09cb55-3265-4a62-a00d-842290de80dc",
   "metadata": {},
   "outputs": [],
   "source": [
    "A=1"
   ]
  },
  {
   "cell_type": "code",
   "execution_count": 13,
   "id": "e98cd486-8968-40c4-9f99-1f62aa7d762d",
   "metadata": {},
   "outputs": [],
   "source": [
    "A=1"
   ]
  },
  {
   "cell_type": "code",
   "execution_count": 14,
   "id": "a1944cac-2edd-4c5b-b006-d0462de1d9bd",
   "metadata": {},
   "outputs": [],
   "source": [
    "A=1"
   ]
  },
  {
   "cell_type": "code",
   "execution_count": 15,
   "id": "df2b3219-8abd-4fa0-bbcb-e82ff02a3959",
   "metadata": {},
   "outputs": [],
   "source": [
    "A=1"
   ]
  },
  {
   "cell_type": "code",
   "execution_count": null,
   "id": "dbf00811-0ca0-4e23-b1bc-3988dc3609d2",
   "metadata": {},
   "outputs": [],
   "source": []
  }
 ],
 "metadata": {
  "kernelspec": {
   "display_name": "Python 3 (ipykernel)",
   "language": "python",
   "name": "python3"
  },
  "language_info": {
   "codemirror_mode": {
    "name": "ipython",
    "version": 3
   },
   "file_extension": ".py",
   "mimetype": "text/x-python",
   "name": "python",
   "nbconvert_exporter": "python",
   "pygments_lexer": "ipython3",
   "version": "3.9.7"
  },
  "widgets": {
   "application/vnd.jupyter.widget-state+json": {
    "state": {},
    "version_major": 2,
    "version_minor": 0
   }
  }
 },
 "nbformat": 4,
 "nbformat_minor": 5
}
